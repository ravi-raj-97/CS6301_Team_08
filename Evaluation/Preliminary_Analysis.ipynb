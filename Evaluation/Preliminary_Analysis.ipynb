{
  "nbformat": 4,
  "nbformat_minor": 0,
  "metadata": {
    "colab": {
      "provenance": []
    },
    "kernelspec": {
      "name": "python3",
      "display_name": "Python 3"
    },
    "language_info": {
      "name": "python"
    }
  },
  "cells": [
    {
      "cell_type": "code",
      "execution_count": 10,
      "metadata": {
        "colab": {
          "base_uri": "https://localhost:8080/"
        },
        "id": "TBmqoh5CDBct",
        "outputId": "d54f9216-8d87-4771-d56f-815dd5120f35"
      },
      "outputs": [
        {
          "output_type": "stream",
          "name": "stdout",
          "text": [
            "Drive already mounted at /content/drive; to attempt to forcibly remount, call drive.mount(\"/content/drive\", force_remount=True).\n"
          ]
        },
        {
          "output_type": "stream",
          "name": "stderr",
          "text": [
            "[nltk_data] Downloading package punkt to /root/nltk_data...\n",
            "[nltk_data]   Package punkt is already up-to-date!\n"
          ]
        },
        {
          "output_type": "execute_result",
          "data": {
            "text/plain": [
              "True"
            ]
          },
          "metadata": {},
          "execution_count": 10
        }
      ],
      "source": [
        "# Mount the drive if running on colab \n",
        "from google.colab import drive\n",
        "drive.mount('/content/drive')\n",
        "# Import other required libraries \n",
        "import pandas as pd\n",
        "from nltk.tokenize import sent_tokenize, word_tokenize\n",
        "import nltk\n",
        "nltk.download('punkt')"
      ]
    },
    {
      "cell_type": "code",
      "source": [
        "# Read the dataset with xml summaries and original transcript\n",
        "read_data = pd.read_excel('/content/drive/MyDrive/summarization_aggregated_data.xlsx').rename(columns={'duration_seconds':'duration_minutes','duration_minutes':'duration_seconds'})"
      ],
      "metadata": {
        "id": "cu43OPi6DF7e"
      },
      "execution_count": 35,
      "outputs": []
    },
    {
      "cell_type": "code",
      "source": [
        "# Find number of sentences and tokens in each transcript\n",
        "read_data['tokenized_sentence'] = read_data['json_transcript'].apply(lambda x:sent_tokenize(x))\n",
        "read_data['tokens'] = read_data['json_transcript'].apply(lambda x:list(set(word_tokenize(x.lower()))))\n",
        "read_data['num_sentences'] = read_data['tokenized_sentence'].apply(lambda x:len(x))\n",
        "# Find unique vocabulary\n",
        "vocab = read_data['tokens'].values\n",
        "unique_vocab = list(set([x for sublist in vocab for x in sublist]))"
      ],
      "metadata": {
        "id": "LJZfzQI9M49N"
      },
      "execution_count": 36,
      "outputs": []
    },
    {
      "cell_type": "code",
      "source": [
        "# Glimpse of the dataset\n",
        "read_data.head(1)"
      ],
      "metadata": {
        "colab": {
          "base_uri": "https://localhost:8080/",
          "height": 232
        },
        "id": "VwWzXOY6NT8T",
        "outputId": "c2fbca3d-476c-4be2-ec1b-9f4cbee506f8"
      },
      "execution_count": 54,
      "outputs": [
        {
          "output_type": "execute_result",
          "data": {
            "text/plain": [
              "                                        xml_filepath  \\\n",
              "0  /content/drive/MyDrive/TREC/spotify-podcasts-2...   \n",
              "\n",
              "                             title  \\\n",
              "0  Ep.05 Why We Don't Sell Presets   \n",
              "\n",
              "                                             summary  \\\n",
              "0  <p>Today on the podcast we go on a JOURNEY! We...   \n",
              "\n",
              "                                         description duration_seconds  \\\n",
              "0  <p>Today on the podcast we go on a JOURNEY! We...             3256   \n",
              "\n",
              "   duration_minutes         show_filename_prefix episode_filename_prefix  \\\n",
              "0           54.2712  show_015DbLwcXu2fK7e9jIfbFo  74t5WREXUbhEKNI89CNSkL   \n",
              "\n",
              "                                       json_filepath  \\\n",
              "0  /content/drive/MyDrive/TREC/spotify-podcasts-2...   \n",
              "\n",
              "                                     json_transcript  \\\n",
              "0   Welcome back to another episode of tuxedo tim...   \n",
              "\n",
              "                                  tokenized_sentence  \\\n",
              "0  [ Welcome back to another episode of tuxedo ti...   \n",
              "\n",
              "                                              tokens  num_sentences  \n",
              "0  [basically, operating, done, squish, cause, fe...            444  "
            ],
            "text/html": [
              "\n",
              "  <div id=\"df-037ca426-fe9a-4aa2-8354-e3049fa2512e\">\n",
              "    <div class=\"colab-df-container\">\n",
              "      <div>\n",
              "<style scoped>\n",
              "    .dataframe tbody tr th:only-of-type {\n",
              "        vertical-align: middle;\n",
              "    }\n",
              "\n",
              "    .dataframe tbody tr th {\n",
              "        vertical-align: top;\n",
              "    }\n",
              "\n",
              "    .dataframe thead th {\n",
              "        text-align: right;\n",
              "    }\n",
              "</style>\n",
              "<table border=\"1\" class=\"dataframe\">\n",
              "  <thead>\n",
              "    <tr style=\"text-align: right;\">\n",
              "      <th></th>\n",
              "      <th>xml_filepath</th>\n",
              "      <th>title</th>\n",
              "      <th>summary</th>\n",
              "      <th>description</th>\n",
              "      <th>duration_seconds</th>\n",
              "      <th>duration_minutes</th>\n",
              "      <th>show_filename_prefix</th>\n",
              "      <th>episode_filename_prefix</th>\n",
              "      <th>json_filepath</th>\n",
              "      <th>json_transcript</th>\n",
              "      <th>tokenized_sentence</th>\n",
              "      <th>tokens</th>\n",
              "      <th>num_sentences</th>\n",
              "    </tr>\n",
              "  </thead>\n",
              "  <tbody>\n",
              "    <tr>\n",
              "      <th>0</th>\n",
              "      <td>/content/drive/MyDrive/TREC/spotify-podcasts-2...</td>\n",
              "      <td>Ep.05 Why We Don't Sell Presets</td>\n",
              "      <td>&lt;p&gt;Today on the podcast we go on a JOURNEY! We...</td>\n",
              "      <td>&lt;p&gt;Today on the podcast we go on a JOURNEY! We...</td>\n",
              "      <td>3256</td>\n",
              "      <td>54.2712</td>\n",
              "      <td>show_015DbLwcXu2fK7e9jIfbFo</td>\n",
              "      <td>74t5WREXUbhEKNI89CNSkL</td>\n",
              "      <td>/content/drive/MyDrive/TREC/spotify-podcasts-2...</td>\n",
              "      <td>Welcome back to another episode of tuxedo tim...</td>\n",
              "      <td>[ Welcome back to another episode of tuxedo ti...</td>\n",
              "      <td>[basically, operating, done, squish, cause, fe...</td>\n",
              "      <td>444</td>\n",
              "    </tr>\n",
              "  </tbody>\n",
              "</table>\n",
              "</div>\n",
              "      <button class=\"colab-df-convert\" onclick=\"convertToInteractive('df-037ca426-fe9a-4aa2-8354-e3049fa2512e')\"\n",
              "              title=\"Convert this dataframe to an interactive table.\"\n",
              "              style=\"display:none;\">\n",
              "        \n",
              "  <svg xmlns=\"http://www.w3.org/2000/svg\" height=\"24px\"viewBox=\"0 0 24 24\"\n",
              "       width=\"24px\">\n",
              "    <path d=\"M0 0h24v24H0V0z\" fill=\"none\"/>\n",
              "    <path d=\"M18.56 5.44l.94 2.06.94-2.06 2.06-.94-2.06-.94-.94-2.06-.94 2.06-2.06.94zm-11 1L8.5 8.5l.94-2.06 2.06-.94-2.06-.94L8.5 2.5l-.94 2.06-2.06.94zm10 10l.94 2.06.94-2.06 2.06-.94-2.06-.94-.94-2.06-.94 2.06-2.06.94z\"/><path d=\"M17.41 7.96l-1.37-1.37c-.4-.4-.92-.59-1.43-.59-.52 0-1.04.2-1.43.59L10.3 9.45l-7.72 7.72c-.78.78-.78 2.05 0 2.83L4 21.41c.39.39.9.59 1.41.59.51 0 1.02-.2 1.41-.59l7.78-7.78 2.81-2.81c.8-.78.8-2.07 0-2.86zM5.41 20L4 18.59l7.72-7.72 1.47 1.35L5.41 20z\"/>\n",
              "  </svg>\n",
              "      </button>\n",
              "      \n",
              "  <style>\n",
              "    .colab-df-container {\n",
              "      display:flex;\n",
              "      flex-wrap:wrap;\n",
              "      gap: 12px;\n",
              "    }\n",
              "\n",
              "    .colab-df-convert {\n",
              "      background-color: #E8F0FE;\n",
              "      border: none;\n",
              "      border-radius: 50%;\n",
              "      cursor: pointer;\n",
              "      display: none;\n",
              "      fill: #1967D2;\n",
              "      height: 32px;\n",
              "      padding: 0 0 0 0;\n",
              "      width: 32px;\n",
              "    }\n",
              "\n",
              "    .colab-df-convert:hover {\n",
              "      background-color: #E2EBFA;\n",
              "      box-shadow: 0px 1px 2px rgba(60, 64, 67, 0.3), 0px 1px 3px 1px rgba(60, 64, 67, 0.15);\n",
              "      fill: #174EA6;\n",
              "    }\n",
              "\n",
              "    [theme=dark] .colab-df-convert {\n",
              "      background-color: #3B4455;\n",
              "      fill: #D2E3FC;\n",
              "    }\n",
              "\n",
              "    [theme=dark] .colab-df-convert:hover {\n",
              "      background-color: #434B5C;\n",
              "      box-shadow: 0px 1px 3px 1px rgba(0, 0, 0, 0.15);\n",
              "      filter: drop-shadow(0px 1px 2px rgba(0, 0, 0, 0.3));\n",
              "      fill: #FFFFFF;\n",
              "    }\n",
              "  </style>\n",
              "\n",
              "      <script>\n",
              "        const buttonEl =\n",
              "          document.querySelector('#df-037ca426-fe9a-4aa2-8354-e3049fa2512e button.colab-df-convert');\n",
              "        buttonEl.style.display =\n",
              "          google.colab.kernel.accessAllowed ? 'block' : 'none';\n",
              "\n",
              "        async function convertToInteractive(key) {\n",
              "          const element = document.querySelector('#df-037ca426-fe9a-4aa2-8354-e3049fa2512e');\n",
              "          const dataTable =\n",
              "            await google.colab.kernel.invokeFunction('convertToInteractive',\n",
              "                                                     [key], {});\n",
              "          if (!dataTable) return;\n",
              "\n",
              "          const docLinkHtml = 'Like what you see? Visit the ' +\n",
              "            '<a target=\"_blank\" href=https://colab.research.google.com/notebooks/data_table.ipynb>data table notebook</a>'\n",
              "            + ' to learn more about interactive tables.';\n",
              "          element.innerHTML = '';\n",
              "          dataTable['output_type'] = 'display_data';\n",
              "          await google.colab.output.renderOutput(dataTable, element);\n",
              "          const docLink = document.createElement('div');\n",
              "          docLink.innerHTML = docLinkHtml;\n",
              "          element.appendChild(docLink);\n",
              "        }\n",
              "      </script>\n",
              "    </div>\n",
              "  </div>\n",
              "  "
            ]
          },
          "metadata": {},
          "execution_count": 54
        }
      ]
    },
    {
      "cell_type": "code",
      "source": [
        "# Look at the podcast duration distribution\n",
        "read_data['duration_minutes'].describe()"
      ],
      "metadata": {
        "colab": {
          "base_uri": "https://localhost:8080/"
        },
        "id": "85DUvaqdFdan",
        "outputId": "39f1da24-1f3f-4f95-fccf-e1503d49b29c"
      },
      "execution_count": 55,
      "outputs": [
        {
          "output_type": "execute_result",
          "data": {
            "text/plain": [
              "count    917.000000\n",
              "mean      36.305297\n",
              "std       23.205357\n",
              "min        0.595600\n",
              "25%       16.420767\n",
              "50%       33.836417\n",
              "75%       54.457767\n",
              "max       89.954883\n",
              "Name: duration_minutes, dtype: float64"
            ]
          },
          "metadata": {},
          "execution_count": 55
        }
      ]
    },
    {
      "cell_type": "code",
      "source": [
        "# Correspondingly, looking at the number of sentences per podcast\n",
        "read_data['num_sentences'].describe()"
      ],
      "metadata": {
        "colab": {
          "base_uri": "https://localhost:8080/"
        },
        "id": "FpFpaz2nNwJw",
        "outputId": "6ae7398a-5988-4c3e-c2af-1bb362aa0544"
      },
      "execution_count": 57,
      "outputs": [
        {
          "output_type": "execute_result",
          "data": {
            "text/plain": [
              "count    917.000000\n",
              "mean     274.610687\n",
              "std      159.245711\n",
              "min        4.000000\n",
              "25%      137.000000\n",
              "50%      284.000000\n",
              "75%      393.000000\n",
              "max      660.000000\n",
              "Name: num_sentences, dtype: float64"
            ]
          },
          "metadata": {},
          "execution_count": 57
        }
      ]
    },
    {
      "cell_type": "code",
      "source": [
        "# Find number of unique words\n",
        "len(unique_vocab)"
      ],
      "metadata": {
        "colab": {
          "base_uri": "https://localhost:8080/"
        },
        "id": "Fa0oP7b_N2AO",
        "outputId": "e5f319af-c55a-45d7-d1e4-74d636b142be"
      },
      "execution_count": 58,
      "outputs": [
        {
          "output_type": "execute_result",
          "data": {
            "text/plain": [
              "51906"
            ]
          },
          "metadata": {},
          "execution_count": 58
        }
      ]
    },
    {
      "cell_type": "code",
      "source": [
        "# Plot the number of sentences as a histogram\n",
        "read_data.hist(column='num_sentences', grid=False, bins=60, legend=True)"
      ],
      "metadata": {
        "colab": {
          "base_uri": "https://localhost:8080/",
          "height": 470
        },
        "id": "LrTe_55mPBDP",
        "outputId": "7a9423cd-9eed-4345-ded1-bc7b4bc7454b"
      },
      "execution_count": 59,
      "outputs": [
        {
          "output_type": "execute_result",
          "data": {
            "text/plain": [
              "array([[<Axes: title={'center': 'num_sentences'}>]], dtype=object)"
            ]
          },
          "metadata": {},
          "execution_count": 59
        },
        {
          "output_type": "display_data",
          "data": {
            "text/plain": [
              "<Figure size 640x480 with 1 Axes>"
            ],
            "image/png": "[encoded data removed]"
          },
          "metadata": {}
        }
      ]
    },
    {
      "cell_type": "code",
      "source": [
        "# Plot the duration of the podcast as a histogram\n",
        "read_data.hist(column='duration_minutes', grid=False, bins=20, legend=True)"
      ],
      "metadata": {
        "colab": {
          "base_uri": "https://localhost:8080/",
          "height": 470
        },
        "id": "piT5dKEcPWJG",
        "outputId": "ba508335-3288-42a9-fbdf-670f7234c7e9"
      },
      "execution_count": 52,
      "outputs": [
        {
          "output_type": "execute_result",
          "data": {
            "text/plain": [
              "array([[<Axes: title={'center': 'duration_minutes'}>]], dtype=object)"
            ]
          },
          "metadata": {},
          "execution_count": 52
        },
        {
          "output_type": "display_data",
          "data": {
            "text/plain": [
              "<Figure size 640x480 with 1 Axes>"
            ],
            "image/png": "[encoded data removed]"
          },
          "metadata": {}
        }
      ]
    },
    {
      "cell_type": "code",
      "source": [],
      "metadata": {
        "id": "_ZbpHHUWPfaq"
      },
      "execution_count": null,
      "outputs": []
    }
  ]
}